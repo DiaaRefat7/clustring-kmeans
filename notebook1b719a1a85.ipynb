{
 "cells": [
  {
   "cell_type": "code",
   "execution_count": 1,
   "id": "10a2827a",
   "metadata": {
    "_cell_guid": "b1076dfc-b9ad-4769-8c92-a6c4dae69d19",
    "_uuid": "8f2839f25d086af736a60e9eeb907d3b93b6e0e5",
    "execution": {
     "iopub.execute_input": "2022-08-05T06:38:29.815603Z",
     "iopub.status.busy": "2022-08-05T06:38:29.815069Z",
     "iopub.status.idle": "2022-08-05T06:38:31.033232Z",
     "shell.execute_reply": "2022-08-05T06:38:31.032065Z"
    },
    "papermill": {
     "duration": 1.225149,
     "end_time": "2022-08-05T06:38:31.035615",
     "exception": false,
     "start_time": "2022-08-05T06:38:29.810466",
     "status": "completed"
    },
    "tags": []
   },
   "outputs": [
    {
     "name": "stdout",
     "output_type": "stream",
     "text": [
      "/kaggle/input/task1/breast-cancer.csv\n"
     ]
    }
   ],
   "source": [
    "# This Python 3 environment comes with many helpful analytics libraries installed\n",
    "# It is defined by the kaggle/python Docker image: https://github.com/kaggle/docker-python\n",
    "# For example, here's several helpful packages to load\n",
    "\n",
    "import numpy as np # linear algebra\n",
    "import pandas as pd # data processing, CSV file I/O (e.g. pd.read_csv)\n",
    "import matplotlib.pyplot as plt\n",
    "from sklearn.cluster import KMeans\n",
    "# Input data files are available in the read-only \"../input/\" directory\n",
    "# For example, running this (by clicking run or pressing Shift+Enter) will list all files under the input directory\n",
    "\n",
    "import os\n",
    "for dirname, _, filenames in os.walk('/kaggle/input'):\n",
    "    for filename in filenames:\n",
    "        print(os.path.join(dirname, filename))\n",
    "data = pd.read_csv('../input/task1/breast-cancer.csv')\n"
   ]
  },
  {
   "cell_type": "markdown",
   "id": "6db132a1",
   "metadata": {
    "papermill": {
     "duration": 0.002238,
     "end_time": "2022-08-05T06:38:31.040960",
     "exception": false,
     "start_time": "2022-08-05T06:38:31.038722",
     "status": "completed"
    },
    "tags": []
   },
   "source": [
    "let's take a look on data"
   ]
  },
  {
   "cell_type": "code",
   "execution_count": 2,
   "id": "45161f26",
   "metadata": {
    "execution": {
     "iopub.execute_input": "2022-08-05T06:38:31.046914Z",
     "iopub.status.busy": "2022-08-05T06:38:31.046583Z",
     "iopub.status.idle": "2022-08-05T06:38:31.078795Z",
     "shell.execute_reply": "2022-08-05T06:38:31.077957Z"
    },
    "papermill": {
     "duration": 0.037244,
     "end_time": "2022-08-05T06:38:31.080549",
     "exception": false,
     "start_time": "2022-08-05T06:38:31.043305",
     "status": "completed"
    },
    "tags": []
   },
   "outputs": [
    {
     "data": {
      "text/html": [
       "<div>\n",
       "<style scoped>\n",
       "    .dataframe tbody tr th:only-of-type {\n",
       "        vertical-align: middle;\n",
       "    }\n",
       "\n",
       "    .dataframe tbody tr th {\n",
       "        vertical-align: top;\n",
       "    }\n",
       "\n",
       "    .dataframe thead th {\n",
       "        text-align: right;\n",
       "    }\n",
       "</style>\n",
       "<table border=\"1\" class=\"dataframe\">\n",
       "  <thead>\n",
       "    <tr style=\"text-align: right;\">\n",
       "      <th></th>\n",
       "      <th>id</th>\n",
       "      <th>diagnosis</th>\n",
       "      <th>radius_mean</th>\n",
       "      <th>texture_mean</th>\n",
       "      <th>perimeter_mean</th>\n",
       "      <th>area_mean</th>\n",
       "      <th>smoothness_mean</th>\n",
       "      <th>compactness_mean</th>\n",
       "      <th>concavity_mean</th>\n",
       "      <th>concave points_mean</th>\n",
       "      <th>...</th>\n",
       "      <th>radius_worst</th>\n",
       "      <th>texture_worst</th>\n",
       "      <th>perimeter_worst</th>\n",
       "      <th>area_worst</th>\n",
       "      <th>smoothness_worst</th>\n",
       "      <th>compactness_worst</th>\n",
       "      <th>concavity_worst</th>\n",
       "      <th>concave points_worst</th>\n",
       "      <th>symmetry_worst</th>\n",
       "      <th>fractal_dimension_worst</th>\n",
       "    </tr>\n",
       "  </thead>\n",
       "  <tbody>\n",
       "    <tr>\n",
       "      <th>0</th>\n",
       "      <td>842302</td>\n",
       "      <td>M</td>\n",
       "      <td>17.99</td>\n",
       "      <td>10.38</td>\n",
       "      <td>122.80</td>\n",
       "      <td>1001.0</td>\n",
       "      <td>0.11840</td>\n",
       "      <td>0.27760</td>\n",
       "      <td>0.3001</td>\n",
       "      <td>0.14710</td>\n",
       "      <td>...</td>\n",
       "      <td>25.38</td>\n",
       "      <td>17.33</td>\n",
       "      <td>184.60</td>\n",
       "      <td>2019.0</td>\n",
       "      <td>0.1622</td>\n",
       "      <td>0.6656</td>\n",
       "      <td>0.7119</td>\n",
       "      <td>0.2654</td>\n",
       "      <td>0.4601</td>\n",
       "      <td>0.11890</td>\n",
       "    </tr>\n",
       "    <tr>\n",
       "      <th>1</th>\n",
       "      <td>842517</td>\n",
       "      <td>M</td>\n",
       "      <td>20.57</td>\n",
       "      <td>17.77</td>\n",
       "      <td>132.90</td>\n",
       "      <td>1326.0</td>\n",
       "      <td>0.08474</td>\n",
       "      <td>0.07864</td>\n",
       "      <td>0.0869</td>\n",
       "      <td>0.07017</td>\n",
       "      <td>...</td>\n",
       "      <td>24.99</td>\n",
       "      <td>23.41</td>\n",
       "      <td>158.80</td>\n",
       "      <td>1956.0</td>\n",
       "      <td>0.1238</td>\n",
       "      <td>0.1866</td>\n",
       "      <td>0.2416</td>\n",
       "      <td>0.1860</td>\n",
       "      <td>0.2750</td>\n",
       "      <td>0.08902</td>\n",
       "    </tr>\n",
       "    <tr>\n",
       "      <th>2</th>\n",
       "      <td>84300903</td>\n",
       "      <td>M</td>\n",
       "      <td>19.69</td>\n",
       "      <td>21.25</td>\n",
       "      <td>130.00</td>\n",
       "      <td>1203.0</td>\n",
       "      <td>0.10960</td>\n",
       "      <td>0.15990</td>\n",
       "      <td>0.1974</td>\n",
       "      <td>0.12790</td>\n",
       "      <td>...</td>\n",
       "      <td>23.57</td>\n",
       "      <td>25.53</td>\n",
       "      <td>152.50</td>\n",
       "      <td>1709.0</td>\n",
       "      <td>0.1444</td>\n",
       "      <td>0.4245</td>\n",
       "      <td>0.4504</td>\n",
       "      <td>0.2430</td>\n",
       "      <td>0.3613</td>\n",
       "      <td>0.08758</td>\n",
       "    </tr>\n",
       "    <tr>\n",
       "      <th>3</th>\n",
       "      <td>84348301</td>\n",
       "      <td>M</td>\n",
       "      <td>11.42</td>\n",
       "      <td>20.38</td>\n",
       "      <td>77.58</td>\n",
       "      <td>386.1</td>\n",
       "      <td>0.14250</td>\n",
       "      <td>0.28390</td>\n",
       "      <td>0.2414</td>\n",
       "      <td>0.10520</td>\n",
       "      <td>...</td>\n",
       "      <td>14.91</td>\n",
       "      <td>26.50</td>\n",
       "      <td>98.87</td>\n",
       "      <td>567.7</td>\n",
       "      <td>0.2098</td>\n",
       "      <td>0.8663</td>\n",
       "      <td>0.6869</td>\n",
       "      <td>0.2575</td>\n",
       "      <td>0.6638</td>\n",
       "      <td>0.17300</td>\n",
       "    </tr>\n",
       "    <tr>\n",
       "      <th>4</th>\n",
       "      <td>84358402</td>\n",
       "      <td>M</td>\n",
       "      <td>20.29</td>\n",
       "      <td>14.34</td>\n",
       "      <td>135.10</td>\n",
       "      <td>1297.0</td>\n",
       "      <td>0.10030</td>\n",
       "      <td>0.13280</td>\n",
       "      <td>0.1980</td>\n",
       "      <td>0.10430</td>\n",
       "      <td>...</td>\n",
       "      <td>22.54</td>\n",
       "      <td>16.67</td>\n",
       "      <td>152.20</td>\n",
       "      <td>1575.0</td>\n",
       "      <td>0.1374</td>\n",
       "      <td>0.2050</td>\n",
       "      <td>0.4000</td>\n",
       "      <td>0.1625</td>\n",
       "      <td>0.2364</td>\n",
       "      <td>0.07678</td>\n",
       "    </tr>\n",
       "  </tbody>\n",
       "</table>\n",
       "<p>5 rows × 32 columns</p>\n",
       "</div>"
      ],
      "text/plain": [
       "         id diagnosis  radius_mean  texture_mean  perimeter_mean  area_mean  \\\n",
       "0    842302         M        17.99         10.38          122.80     1001.0   \n",
       "1    842517         M        20.57         17.77          132.90     1326.0   \n",
       "2  84300903         M        19.69         21.25          130.00     1203.0   \n",
       "3  84348301         M        11.42         20.38           77.58      386.1   \n",
       "4  84358402         M        20.29         14.34          135.10     1297.0   \n",
       "\n",
       "   smoothness_mean  compactness_mean  concavity_mean  concave points_mean  \\\n",
       "0          0.11840           0.27760          0.3001              0.14710   \n",
       "1          0.08474           0.07864          0.0869              0.07017   \n",
       "2          0.10960           0.15990          0.1974              0.12790   \n",
       "3          0.14250           0.28390          0.2414              0.10520   \n",
       "4          0.10030           0.13280          0.1980              0.10430   \n",
       "\n",
       "   ...  radius_worst  texture_worst  perimeter_worst  area_worst  \\\n",
       "0  ...         25.38          17.33           184.60      2019.0   \n",
       "1  ...         24.99          23.41           158.80      1956.0   \n",
       "2  ...         23.57          25.53           152.50      1709.0   \n",
       "3  ...         14.91          26.50            98.87       567.7   \n",
       "4  ...         22.54          16.67           152.20      1575.0   \n",
       "\n",
       "   smoothness_worst  compactness_worst  concavity_worst  concave points_worst  \\\n",
       "0            0.1622             0.6656           0.7119                0.2654   \n",
       "1            0.1238             0.1866           0.2416                0.1860   \n",
       "2            0.1444             0.4245           0.4504                0.2430   \n",
       "3            0.2098             0.8663           0.6869                0.2575   \n",
       "4            0.1374             0.2050           0.4000                0.1625   \n",
       "\n",
       "   symmetry_worst  fractal_dimension_worst  \n",
       "0          0.4601                  0.11890  \n",
       "1          0.2750                  0.08902  \n",
       "2          0.3613                  0.08758  \n",
       "3          0.6638                  0.17300  \n",
       "4          0.2364                  0.07678  \n",
       "\n",
       "[5 rows x 32 columns]"
      ]
     },
     "execution_count": 2,
     "metadata": {},
     "output_type": "execute_result"
    }
   ],
   "source": [
    "data.head()"
   ]
  },
  {
   "cell_type": "markdown",
   "id": "753aa18b",
   "metadata": {
    "papermill": {
     "duration": 0.002548,
     "end_time": "2022-08-05T06:38:31.085960",
     "exception": false,
     "start_time": "2022-08-05T06:38:31.083412",
     "status": "completed"
    },
    "tags": []
   },
   "source": [
    "let's choose columns for features so we will choose radius_mean concavity_mean "
   ]
  },
  {
   "cell_type": "code",
   "execution_count": 3,
   "id": "d14730a0",
   "metadata": {
    "execution": {
     "iopub.execute_input": "2022-08-05T06:38:31.092927Z",
     "iopub.status.busy": "2022-08-05T06:38:31.092095Z",
     "iopub.status.idle": "2022-08-05T06:38:31.101225Z",
     "shell.execute_reply": "2022-08-05T06:38:31.100614Z"
    },
    "papermill": {
     "duration": 0.014351,
     "end_time": "2022-08-05T06:38:31.102940",
     "exception": false,
     "start_time": "2022-08-05T06:38:31.088589",
     "status": "completed"
    },
    "tags": []
   },
   "outputs": [],
   "source": [
    "features = [\"radius_mean\", \"concavity_mean\"]\n",
    "featureskmeans = np.array(data[features])\n"
   ]
  },
  {
   "cell_type": "markdown",
   "id": "431b9de5",
   "metadata": {
    "papermill": {
     "duration": 0.002789,
     "end_time": "2022-08-05T06:38:31.108696",
     "exception": false,
     "start_time": "2022-08-05T06:38:31.105907",
     "status": "completed"
    },
    "tags": []
   },
   "source": [
    "initialize model with two clusters and max iteration as default 300"
   ]
  },
  {
   "cell_type": "code",
   "execution_count": 4,
   "id": "268558e4",
   "metadata": {
    "execution": {
     "iopub.execute_input": "2022-08-05T06:38:31.115581Z",
     "iopub.status.busy": "2022-08-05T06:38:31.114986Z",
     "iopub.status.idle": "2022-08-05T06:38:31.118306Z",
     "shell.execute_reply": "2022-08-05T06:38:31.117775Z"
    },
    "papermill": {
     "duration": 0.009336,
     "end_time": "2022-08-05T06:38:31.120718",
     "exception": false,
     "start_time": "2022-08-05T06:38:31.111382",
     "status": "completed"
    },
    "tags": []
   },
   "outputs": [],
   "source": [
    "clusters = KMeans(n_clusters=2, max_iter=300)"
   ]
  },
  {
   "cell_type": "markdown",
   "id": "ae426da4",
   "metadata": {
    "papermill": {
     "duration": 0.002566,
     "end_time": "2022-08-05T06:38:31.126300",
     "exception": false,
     "start_time": "2022-08-05T06:38:31.123734",
     "status": "completed"
    },
    "tags": []
   },
   "source": [
    "let's fitting model"
   ]
  },
  {
   "cell_type": "code",
   "execution_count": 5,
   "id": "b18bef53",
   "metadata": {
    "execution": {
     "iopub.execute_input": "2022-08-05T06:38:31.133809Z",
     "iopub.status.busy": "2022-08-05T06:38:31.132702Z",
     "iopub.status.idle": "2022-08-05T06:38:31.166965Z",
     "shell.execute_reply": "2022-08-05T06:38:31.166233Z"
    },
    "papermill": {
     "duration": 0.040199,
     "end_time": "2022-08-05T06:38:31.169167",
     "exception": false,
     "start_time": "2022-08-05T06:38:31.128968",
     "status": "completed"
    },
    "tags": []
   },
   "outputs": [],
   "source": [
    "clusters.fit(featureskmeans)\n",
    "colorscluster = clusters.labels_"
   ]
  },
  {
   "cell_type": "markdown",
   "id": "2c460d07",
   "metadata": {
    "papermill": {
     "duration": 0.003031,
     "end_time": "2022-08-05T06:38:31.175618",
     "exception": false,
     "start_time": "2022-08-05T06:38:31.172587",
     "status": "completed"
    },
    "tags": []
   },
   "source": [
    "plotting"
   ]
  },
  {
   "cell_type": "code",
   "execution_count": 6,
   "id": "fb9aca5d",
   "metadata": {
    "execution": {
     "iopub.execute_input": "2022-08-05T06:38:31.183374Z",
     "iopub.status.busy": "2022-08-05T06:38:31.182799Z",
     "iopub.status.idle": "2022-08-05T06:38:35.505642Z",
     "shell.execute_reply": "2022-08-05T06:38:35.504726Z"
    },
    "papermill": {
     "duration": 4.328267,
     "end_time": "2022-08-05T06:38:35.507295",
     "exception": false,
     "start_time": "2022-08-05T06:38:31.179028",
     "status": "completed"
    },
    "tags": []
   },
   "outputs": [
    {
     "data": {
      "text/plain": [
       "Text(0, 0.5, 'Concavity Mean')"
      ]
     },
     "execution_count": 6,
     "metadata": {},
     "output_type": "execute_result"
    },
    {
     "data": {
      "image/png": "[encoded data removed]",
      "text/plain": [
       "<Figure size 432x288 with 1 Axes>"
      ]
     },
     "metadata": {
      "needs_background": "light"
     },
     "output_type": "display_data"
    }
   ],
   "source": [
    "fig, ax = plt.subplots()\n",
    "colors = [\"r\", \"b\"]\n",
    "for i in range(len(featureskmeans)):\n",
    "    ax.scatter(x=featureskmeans[i][0], y=featureskmeans[i][1],c=colors[colorscluster[i]])\n",
    "ax.set_xlabel(\"Radius Mean\")\n",
    "ax.set_ylabel(\"Concavity Mean\")"
   ]
  }
 ],
 "metadata": {
  "kernelspec": {
   "display_name": "Python 3",
   "language": "python",
   "name": "python3"
  },
  "language_info": {
   "codemirror_mode": {
    "name": "ipython",
    "version": 3
   },
   "file_extension": ".py",
   "mimetype": "text/x-python",
   "name": "python",
   "nbconvert_exporter": "python",
   "pygments_lexer": "ipython3",
   "version": "3.7.12"
  },
  "papermill": {
   "default_parameters": {},
   "duration": 14.086544,
   "end_time": "2022-08-05T06:38:36.231887",
   "environment_variables": {},
   "exception": null,
   "input_path": "__notebook__.ipynb",
   "output_path": "__notebook__.ipynb",
   "parameters": {},
   "start_time": "2022-08-05T06:38:22.145343",
   "version": "2.3.4"
  }
 },
 "nbformat": 4,
 "nbformat_minor": 5
}
